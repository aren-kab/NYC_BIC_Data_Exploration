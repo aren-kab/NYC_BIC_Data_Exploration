{
 "cells": [
  {
   "cell_type": "code",
   "execution_count": 1,
   "id": "291304c0",
   "metadata": {
    "scrolled": true
   },
   "outputs": [],
   "source": [
    "#install packages\n",
    "import numpy as np\n",
    "import pandas as pd\n",
    "import seaborn as sns\n",
    "import matplotlib.pyplot as plt\n",
    "from datetime import datetime, timedelta\n",
    "\n",
    "#load data\n",
    "violations= pd.read_csv('/Users/aren_kab/Documents/Job Search/BIC Data Analyst /explorationdatasets/BIC_Issued_Violations.csv',parse_dates=['DATE OF VIOLATION','DATE VIOLATION ISSUED'])"
   ]
  },
  {
   "cell_type": "code",
   "execution_count": 2,
   "id": "eb70a5b2",
   "metadata": {
    "scrolled": true
   },
   "outputs": [
    {
     "name": "stdout",
     "output_type": "stream",
     "text": [
      "<class 'pandas.core.frame.DataFrame'>\n",
      "RangeIndex: 7738 entries, 0 to 7737\n",
      "Data columns (total 31 columns):\n",
      " #   Column                      Non-Null Count  Dtype              \n",
      "---  ------                      --------------  -----              \n",
      " 0   VIOLATION NUMBER            7738 non-null   object             \n",
      " 1   BIC NUMBER                  2760 non-null   float64            \n",
      " 2   ACCOUNT NAME                7738 non-null   object             \n",
      " 3   TYPE OF VIOLATION           7738 non-null   object             \n",
      " 4   VIOLATION PHASE             7738 non-null   object             \n",
      " 5   VIOLATION DISPOSITION       7733 non-null   object             \n",
      " 6   ACCOUNT TYPE                7738 non-null   object             \n",
      " 7   VIOLATION ACCOUNT ADDRESS   7563 non-null   object             \n",
      " 8   VIOLATION ACCOUNT CITY      7561 non-null   object             \n",
      " 9   VIOLATION ACCOUNT STATE     7562 non-null   object             \n",
      " 10  VIOLATION ACCOUNT POSTCODE  7557 non-null   object             \n",
      " 11  BOROUGH OF VIOLATION        6918 non-null   object             \n",
      " 12  DATE OF VIOLATION           7738 non-null   datetime64[ns]     \n",
      " 13  DATE VIOLATION ISSUED       7738 non-null   datetime64[ns, UTC]\n",
      " 14  MAXIMUM FINE                7735 non-null   float64            \n",
      " 15  FINE AMOUNT                 6100 non-null   float64            \n",
      " 16  DATE FINE PAID              4797 non-null   object             \n",
      " 17  EARLY SETTLEMENT VIOLATION  7738 non-null   bool               \n",
      " 18  SETTLEMENT DATE             687 non-null    object             \n",
      " 19  RULE CODE                   7738 non-null   object             \n",
      " 20  NUMBER OF COUNTS            7736 non-null   float64            \n",
      " 21  DESCRIPTION OF RULE         7738 non-null   object             \n",
      " 22  EXPORT DATE                 7738 non-null   object             \n",
      " 23  Latitude                    4396 non-null   float64            \n",
      " 24  Longitude                   4396 non-null   float64            \n",
      " 25  Community Board             4396 non-null   float64            \n",
      " 26  Council District            4396 non-null   float64            \n",
      " 27  Census Tract                4396 non-null   float64            \n",
      " 28  BIN                         4315 non-null   float64            \n",
      " 29  BBL                         4315 non-null   float64            \n",
      " 30  NTA                         4396 non-null   object             \n",
      "dtypes: bool(1), datetime64[ns, UTC](1), datetime64[ns](1), float64(11), object(17)\n",
      "memory usage: 1.8+ MB\n"
     ]
    }
   ],
   "source": [
    "#get_info\n",
    "violations.info()"
   ]
  },
  {
   "cell_type": "code",
   "execution_count": 3,
   "id": "e2dba8b7",
   "metadata": {
    "scrolled": true
   },
   "outputs": [
    {
     "data": {
      "text/html": [
       "<div>\n",
       "<style scoped>\n",
       "    .dataframe tbody tr th:only-of-type {\n",
       "        vertical-align: middle;\n",
       "    }\n",
       "\n",
       "    .dataframe tbody tr th {\n",
       "        vertical-align: top;\n",
       "    }\n",
       "\n",
       "    .dataframe thead th {\n",
       "        text-align: right;\n",
       "    }\n",
       "</style>\n",
       "<table border=\"1\" class=\"dataframe\">\n",
       "  <thead>\n",
       "    <tr style=\"text-align: right;\">\n",
       "      <th></th>\n",
       "      <th>BIC NUMBER</th>\n",
       "      <th>MAXIMUM FINE</th>\n",
       "      <th>FINE AMOUNT</th>\n",
       "      <th>NUMBER OF COUNTS</th>\n",
       "      <th>Latitude</th>\n",
       "      <th>Longitude</th>\n",
       "      <th>Community Board</th>\n",
       "      <th>Council District</th>\n",
       "      <th>Census Tract</th>\n",
       "      <th>BIN</th>\n",
       "      <th>BBL</th>\n",
       "    </tr>\n",
       "  </thead>\n",
       "  <tbody>\n",
       "    <tr>\n",
       "      <th>count</th>\n",
       "      <td>2760.000000</td>\n",
       "      <td>7735.000000</td>\n",
       "      <td>6100.000000</td>\n",
       "      <td>7736.000000</td>\n",
       "      <td>4396.000000</td>\n",
       "      <td>4396.000000</td>\n",
       "      <td>4396.000000</td>\n",
       "      <td>4396.000000</td>\n",
       "      <td>4396.000000</td>\n",
       "      <td>4.315000e+03</td>\n",
       "      <td>4.315000e+03</td>\n",
       "    </tr>\n",
       "    <tr>\n",
       "      <th>mean</th>\n",
       "      <td>134699.934058</td>\n",
       "      <td>12206.981254</td>\n",
       "      <td>2026.597195</td>\n",
       "      <td>1.292011</td>\n",
       "      <td>40.718389</td>\n",
       "      <td>-73.922174</td>\n",
       "      <td>6.350546</td>\n",
       "      <td>28.236124</td>\n",
       "      <td>6190.888763</td>\n",
       "      <td>3.416770e+06</td>\n",
       "      <td>3.317153e+09</td>\n",
       "    </tr>\n",
       "    <tr>\n",
       "      <th>std</th>\n",
       "      <td>216528.035717</td>\n",
       "      <td>28022.643597</td>\n",
       "      <td>11765.248129</td>\n",
       "      <td>2.764101</td>\n",
       "      <td>0.079083</td>\n",
       "      <td>0.108157</td>\n",
       "      <td>4.543427</td>\n",
       "      <td>13.306784</td>\n",
       "      <td>20630.230140</td>\n",
       "      <td>1.178277e+06</td>\n",
       "      <td>1.138309e+09</td>\n",
       "    </tr>\n",
       "    <tr>\n",
       "      <th>min</th>\n",
       "      <td>8.000000</td>\n",
       "      <td>0.000000</td>\n",
       "      <td>0.000000</td>\n",
       "      <td>0.000000</td>\n",
       "      <td>40.502876</td>\n",
       "      <td>-74.252665</td>\n",
       "      <td>1.000000</td>\n",
       "      <td>1.000000</td>\n",
       "      <td>1.000000</td>\n",
       "      <td>1.001081e+06</td>\n",
       "      <td>1.000640e+09</td>\n",
       "    </tr>\n",
       "    <tr>\n",
       "      <th>25%</th>\n",
       "      <td>1253.500000</td>\n",
       "      <td>5000.000000</td>\n",
       "      <td>250.000000</td>\n",
       "      <td>1.000000</td>\n",
       "      <td>40.663074</td>\n",
       "      <td>-73.983922</td>\n",
       "      <td>2.000000</td>\n",
       "      <td>18.000000</td>\n",
       "      <td>119.000000</td>\n",
       "      <td>2.119707e+06</td>\n",
       "      <td>2.055855e+09</td>\n",
       "    </tr>\n",
       "    <tr>\n",
       "      <th>50%</th>\n",
       "      <td>3504.000000</td>\n",
       "      <td>10000.000000</td>\n",
       "      <td>500.000000</td>\n",
       "      <td>1.000000</td>\n",
       "      <td>40.717441</td>\n",
       "      <td>-73.907716</td>\n",
       "      <td>6.000000</td>\n",
       "      <td>27.000000</td>\n",
       "      <td>375.000000</td>\n",
       "      <td>3.415704e+06</td>\n",
       "      <td>3.087330e+09</td>\n",
       "    </tr>\n",
       "    <tr>\n",
       "      <th>75%</th>\n",
       "      <td>476276.000000</td>\n",
       "      <td>10000.000000</td>\n",
       "      <td>1500.000000</td>\n",
       "      <td>1.000000</td>\n",
       "      <td>40.775132</td>\n",
       "      <td>-73.846127</td>\n",
       "      <td>10.000000</td>\n",
       "      <td>38.000000</td>\n",
       "      <td>889.000000</td>\n",
       "      <td>4.233376e+06</td>\n",
       "      <td>4.080990e+09</td>\n",
       "    </tr>\n",
       "    <tr>\n",
       "      <th>max</th>\n",
       "      <td>500065.000000</td>\n",
       "      <td>830000.000000</td>\n",
       "      <td>300000.000000</td>\n",
       "      <td>107.000000</td>\n",
       "      <td>40.905021</td>\n",
       "      <td>-73.703372</td>\n",
       "      <td>18.000000</td>\n",
       "      <td>51.000000</td>\n",
       "      <td>157903.000000</td>\n",
       "      <td>5.169668e+06</td>\n",
       "      <td>5.080430e+09</td>\n",
       "    </tr>\n",
       "  </tbody>\n",
       "</table>\n",
       "</div>"
      ],
      "text/plain": [
       "          BIC NUMBER   MAXIMUM FINE    FINE AMOUNT  NUMBER OF COUNTS  \\\n",
       "count    2760.000000    7735.000000    6100.000000       7736.000000   \n",
       "mean   134699.934058   12206.981254    2026.597195          1.292011   \n",
       "std    216528.035717   28022.643597   11765.248129          2.764101   \n",
       "min         8.000000       0.000000       0.000000          0.000000   \n",
       "25%      1253.500000    5000.000000     250.000000          1.000000   \n",
       "50%      3504.000000   10000.000000     500.000000          1.000000   \n",
       "75%    476276.000000   10000.000000    1500.000000          1.000000   \n",
       "max    500065.000000  830000.000000  300000.000000        107.000000   \n",
       "\n",
       "          Latitude    Longitude  Community Board  Council District  \\\n",
       "count  4396.000000  4396.000000      4396.000000       4396.000000   \n",
       "mean     40.718389   -73.922174         6.350546         28.236124   \n",
       "std       0.079083     0.108157         4.543427         13.306784   \n",
       "min      40.502876   -74.252665         1.000000          1.000000   \n",
       "25%      40.663074   -73.983922         2.000000         18.000000   \n",
       "50%      40.717441   -73.907716         6.000000         27.000000   \n",
       "75%      40.775132   -73.846127        10.000000         38.000000   \n",
       "max      40.905021   -73.703372        18.000000         51.000000   \n",
       "\n",
       "        Census Tract           BIN           BBL  \n",
       "count    4396.000000  4.315000e+03  4.315000e+03  \n",
       "mean     6190.888763  3.416770e+06  3.317153e+09  \n",
       "std     20630.230140  1.178277e+06  1.138309e+09  \n",
       "min         1.000000  1.001081e+06  1.000640e+09  \n",
       "25%       119.000000  2.119707e+06  2.055855e+09  \n",
       "50%       375.000000  3.415704e+06  3.087330e+09  \n",
       "75%       889.000000  4.233376e+06  4.080990e+09  \n",
       "max    157903.000000  5.169668e+06  5.080430e+09  "
      ]
     },
     "execution_count": 3,
     "metadata": {},
     "output_type": "execute_result"
    }
   ],
   "source": [
    "#summerize table\n",
    "violations.describe() "
   ]
  },
  {
   "cell_type": "markdown",
   "id": "ab10dbdf",
   "metadata": {},
   "source": [
    "### Get Started With This Data:\n",
    "#### 1. How many violations were issued by BIC to unlicensed trade waste companies in a certain period of time?\n",
    "#### 2. What percent of BIC issued violations had an early settlement in a certain period of time?\n",
    "#### 3. What are the top 5 rule codes of issued violations in a certain period of time?"
   ]
  },
  {
   "cell_type": "code",
   "execution_count": 4,
   "id": "811e27ff",
   "metadata": {
    "scrolled": true
   },
   "outputs": [
    {
     "data": {
      "text/html": [
       "<div>\n",
       "<style scoped>\n",
       "    .dataframe tbody tr th:only-of-type {\n",
       "        vertical-align: middle;\n",
       "    }\n",
       "\n",
       "    .dataframe tbody tr th {\n",
       "        vertical-align: top;\n",
       "    }\n",
       "\n",
       "    .dataframe thead th {\n",
       "        text-align: right;\n",
       "    }\n",
       "</style>\n",
       "<table border=\"1\" class=\"dataframe\">\n",
       "  <thead>\n",
       "    <tr style=\"text-align: right;\">\n",
       "      <th></th>\n",
       "      <th>VIOLATION NUMBER</th>\n",
       "      <th>BIC NUMBER</th>\n",
       "      <th>TYPE OF VIOLATION</th>\n",
       "      <th>VIOLATION PHASE</th>\n",
       "      <th>VIOLATION DISPOSITION</th>\n",
       "      <th>ACCOUNT TYPE</th>\n",
       "      <th>DATE OF VIOLATION</th>\n",
       "      <th>DATE VIOLATION ISSUED</th>\n",
       "      <th>MAXIMUM FINE</th>\n",
       "      <th>FINE AMOUNT</th>\n",
       "      <th>DATE FINE PAID</th>\n",
       "      <th>EARLY SETTLEMENT VIOLATION</th>\n",
       "      <th>RULE CODE</th>\n",
       "      <th>DESCRIPTION OF RULE</th>\n",
       "      <th>EXPORT DATE</th>\n",
       "    </tr>\n",
       "  </thead>\n",
       "  <tbody>\n",
       "    <tr>\n",
       "      <th>0</th>\n",
       "      <td>TWC-219653</td>\n",
       "      <td>NaN</td>\n",
       "      <td>OATH</td>\n",
       "      <td>Issued</td>\n",
       "      <td>Settled</td>\n",
       "      <td>Unlicensed</td>\n",
       "      <td>2020-07-07</td>\n",
       "      <td>2020-10-01 16:54:00+00:00</td>\n",
       "      <td>5000.0</td>\n",
       "      <td>500.0</td>\n",
       "      <td>10/11/2020</td>\n",
       "      <td>True</td>\n",
       "      <td>NYC AC 16-505(a)</td>\n",
       "      <td>Removed collected or disposed of trade waste o...</td>\n",
       "      <td>05/19/2022</td>\n",
       "    </tr>\n",
       "    <tr>\n",
       "      <th>1</th>\n",
       "      <td>TWC-218679</td>\n",
       "      <td>NaN</td>\n",
       "      <td>OATH</td>\n",
       "      <td>Issued</td>\n",
       "      <td>Settled</td>\n",
       "      <td>Unlicensed</td>\n",
       "      <td>2020-02-20</td>\n",
       "      <td>2020-02-20 15:49:00+00:00</td>\n",
       "      <td>40000.0</td>\n",
       "      <td>1000.0</td>\n",
       "      <td>02/21/2020</td>\n",
       "      <td>False</td>\n",
       "      <td>17 RCNY 2-05(b)</td>\n",
       "      <td>Failed to timely notify Commission of a materi...</td>\n",
       "      <td>05/19/2022</td>\n",
       "    </tr>\n",
       "    <tr>\n",
       "      <th>2</th>\n",
       "      <td>TWC-211037</td>\n",
       "      <td>NaN</td>\n",
       "      <td>OATH</td>\n",
       "      <td>Issued</td>\n",
       "      <td>Settled</td>\n",
       "      <td>Unlicensed</td>\n",
       "      <td>2014-09-16</td>\n",
       "      <td>2014-12-05 17:25:00+00:00</td>\n",
       "      <td>5000.0</td>\n",
       "      <td>2500.0</td>\n",
       "      <td>04/15/2015</td>\n",
       "      <td>False</td>\n",
       "      <td>NYC AC 16-505(a)</td>\n",
       "      <td>Removed collected or disposed of trade waste o...</td>\n",
       "      <td>05/19/2022</td>\n",
       "    </tr>\n",
       "    <tr>\n",
       "      <th>3</th>\n",
       "      <td>TWC-221854</td>\n",
       "      <td>NaN</td>\n",
       "      <td>OATH</td>\n",
       "      <td>Issued</td>\n",
       "      <td>Rescheduled</td>\n",
       "      <td>Unlicensed</td>\n",
       "      <td>2021-06-07</td>\n",
       "      <td>2022-02-17 21:05:00+00:00</td>\n",
       "      <td>5000.0</td>\n",
       "      <td>NaN</td>\n",
       "      <td>NaN</td>\n",
       "      <td>False</td>\n",
       "      <td>NYC AC 16-505(a)</td>\n",
       "      <td>Removed collected or disposed of trade waste o...</td>\n",
       "      <td>05/19/2022</td>\n",
       "    </tr>\n",
       "    <tr>\n",
       "      <th>4</th>\n",
       "      <td>TWC-218495</td>\n",
       "      <td>NaN</td>\n",
       "      <td>OATH</td>\n",
       "      <td>Issued</td>\n",
       "      <td>Settled</td>\n",
       "      <td>Unlicensed</td>\n",
       "      <td>2020-01-27</td>\n",
       "      <td>2020-02-04 19:33:00+00:00</td>\n",
       "      <td>10000.0</td>\n",
       "      <td>0.0</td>\n",
       "      <td>NaN</td>\n",
       "      <td>False</td>\n",
       "      <td>17 RCNY 5-12(c)(1)</td>\n",
       "      <td>Failed to separate recyclable materials from n...</td>\n",
       "      <td>05/19/2022</td>\n",
       "    </tr>\n",
       "  </tbody>\n",
       "</table>\n",
       "</div>"
      ],
      "text/plain": [
       "  VIOLATION NUMBER  BIC NUMBER TYPE OF VIOLATION VIOLATION PHASE  \\\n",
       "0       TWC-219653         NaN              OATH          Issued   \n",
       "1       TWC-218679         NaN              OATH          Issued   \n",
       "2       TWC-211037         NaN              OATH          Issued   \n",
       "3       TWC-221854         NaN              OATH          Issued   \n",
       "4       TWC-218495         NaN              OATH          Issued   \n",
       "\n",
       "  VIOLATION DISPOSITION ACCOUNT TYPE DATE OF VIOLATION  \\\n",
       "0               Settled   Unlicensed        2020-07-07   \n",
       "1               Settled   Unlicensed        2020-02-20   \n",
       "2               Settled   Unlicensed        2014-09-16   \n",
       "3           Rescheduled   Unlicensed        2021-06-07   \n",
       "4               Settled   Unlicensed        2020-01-27   \n",
       "\n",
       "      DATE VIOLATION ISSUED  MAXIMUM FINE  FINE AMOUNT DATE FINE PAID  \\\n",
       "0 2020-10-01 16:54:00+00:00        5000.0        500.0     10/11/2020   \n",
       "1 2020-02-20 15:49:00+00:00       40000.0       1000.0     02/21/2020   \n",
       "2 2014-12-05 17:25:00+00:00        5000.0       2500.0     04/15/2015   \n",
       "3 2022-02-17 21:05:00+00:00        5000.0          NaN            NaN   \n",
       "4 2020-02-04 19:33:00+00:00       10000.0          0.0            NaN   \n",
       "\n",
       "   EARLY SETTLEMENT VIOLATION           RULE CODE  \\\n",
       "0                        True    NYC AC 16-505(a)   \n",
       "1                       False     17 RCNY 2-05(b)   \n",
       "2                       False    NYC AC 16-505(a)   \n",
       "3                       False    NYC AC 16-505(a)   \n",
       "4                       False  17 RCNY 5-12(c)(1)   \n",
       "\n",
       "                                 DESCRIPTION OF RULE EXPORT DATE  \n",
       "0  Removed collected or disposed of trade waste o...  05/19/2022  \n",
       "1  Failed to timely notify Commission of a materi...  05/19/2022  \n",
       "2  Removed collected or disposed of trade waste o...  05/19/2022  \n",
       "3  Removed collected or disposed of trade waste o...  05/19/2022  \n",
       "4  Failed to separate recyclable materials from n...  05/19/2022  "
      ]
     },
     "execution_count": 4,
     "metadata": {},
     "output_type": "execute_result"
    }
   ],
   "source": [
    "#Getting Started Questions to familiarize with data- Keep rows neccessary\n",
    "#Also include fine columns for later\n",
    "violations_analysis = violations.iloc[:, [0, 1,3,4,5,6,12,13,14,15,16,17,19,21,22]]\n",
    "violations_analysis.head()"
   ]
  },
  {
   "cell_type": "code",
   "execution_count": 5,
   "id": "b81d0291",
   "metadata": {
    "scrolled": true
   },
   "outputs": [
    {
     "name": "stdout",
     "output_type": "stream",
     "text": [
      "<class 'pandas.core.frame.DataFrame'>\n",
      "RangeIndex: 7738 entries, 0 to 7737\n",
      "Data columns (total 15 columns):\n",
      " #   Column                      Non-Null Count  Dtype              \n",
      "---  ------                      --------------  -----              \n",
      " 0   VIOLATION NUMBER            7738 non-null   object             \n",
      " 1   BIC NUMBER                  2760 non-null   float64            \n",
      " 2   TYPE OF VIOLATION           7738 non-null   object             \n",
      " 3   VIOLATION PHASE             7738 non-null   object             \n",
      " 4   VIOLATION DISPOSITION       7733 non-null   object             \n",
      " 5   ACCOUNT TYPE                7738 non-null   object             \n",
      " 6   DATE OF VIOLATION           7738 non-null   datetime64[ns]     \n",
      " 7   DATE VIOLATION ISSUED       7738 non-null   datetime64[ns, UTC]\n",
      " 8   MAXIMUM FINE                7735 non-null   float64            \n",
      " 9   FINE AMOUNT                 6100 non-null   float64            \n",
      " 10  DATE FINE PAID              4797 non-null   object             \n",
      " 11  EARLY SETTLEMENT VIOLATION  7738 non-null   bool               \n",
      " 12  RULE CODE                   7738 non-null   object             \n",
      " 13  DESCRIPTION OF RULE         7738 non-null   object             \n",
      " 14  EXPORT DATE                 7738 non-null   object             \n",
      "dtypes: bool(1), datetime64[ns, UTC](1), datetime64[ns](1), float64(3), object(9)\n",
      "memory usage: 854.0+ KB\n"
     ]
    }
   ],
   "source": [
    "violations_analysis.info()"
   ]
  },
  {
   "cell_type": "code",
   "execution_count": 6,
   "id": "b2fd09e4",
   "metadata": {
    "scrolled": true
   },
   "outputs": [
    {
     "name": "stdout",
     "output_type": "stream",
     "text": [
      "2022-05-09 00:00:00\n",
      "2000-02-01 00:00:00\n"
     ]
    }
   ],
   "source": [
    "#Check the date range - Let's do 5 years of recent data\n",
    "print(violations_analysis['DATE OF VIOLATION'].max())\n",
    "print(violations_analysis['DATE OF VIOLATION'].min())"
   ]
  },
  {
   "cell_type": "code",
   "execution_count": 7,
   "id": "9f7eb26f",
   "metadata": {
    "scrolled": true
   },
   "outputs": [],
   "source": [
    "#lets use 2015 -2020 data to get 5 years of data\n",
    "violations15_20 = violations_analysis.loc[(violations_analysis['DATE OF VIOLATION'] >= '2015-01-01')\n",
    "                     & (violations_analysis['DATE OF VIOLATION'] < '2021-01-01')]"
   ]
  },
  {
   "cell_type": "code",
   "execution_count": 8,
   "id": "771dc432",
   "metadata": {
    "scrolled": true
   },
   "outputs": [],
   "source": [
    "#Question 1: How many violations were issued by BIC to \n",
    "#unlicensed trade waste companies in a certain period of time?"
   ]
  },
  {
   "cell_type": "code",
   "execution_count": 9,
   "id": "2a8dc3e0",
   "metadata": {
    "scrolled": true
   },
   "outputs": [],
   "source": [
    "#create a variable for unlicensesd trade waste violations \n",
    "unlicensed_trade_waste_15_20 = len(violations15_20[violations15_20['ACCOUNT TYPE']=='Unlicensed'])"
   ]
  },
  {
   "cell_type": "code",
   "execution_count": 10,
   "id": "12fe6060",
   "metadata": {
    "scrolled": true
   },
   "outputs": [
    {
     "name": "stdout",
     "output_type": "stream",
     "text": [
      "Q1: 2371 violations were issued by BIC to unliscensed trade waste companies between 2015-2020\n"
     ]
    }
   ],
   "source": [
    "print('Q1:',unlicensed_trade_waste_15_20, \"violations were issued by BIC to unliscensed trade waste companies between 2015-2020\")"
   ]
  },
  {
   "cell_type": "code",
   "execution_count": 11,
   "id": "5a609d2d",
   "metadata": {
    "scrolled": true
   },
   "outputs": [
    {
     "data": {
      "text/plain": [
       "False    4249\n",
       "True      346\n",
       "Name: EARLY SETTLEMENT VIOLATION, dtype: int64"
      ]
     },
     "execution_count": 11,
     "metadata": {},
     "output_type": "execute_result"
    }
   ],
   "source": [
    "violations15_20['EARLY SETTLEMENT VIOLATION'].value_counts()"
   ]
  },
  {
   "cell_type": "code",
   "execution_count": 12,
   "id": "362d61ae",
   "metadata": {
    "scrolled": true
   },
   "outputs": [],
   "source": [
    "#### What percent of BIC issued violations had an early settlement in a certain period of time?\n",
    "#Create a variable for the percent by dividing early settlement = true / total violations\n",
    "Percent_BIC_Early_Settlements= (len(violations15_20[violations15_20['EARLY SETTLEMENT VIOLATION']== True])/violations15_20['EARLY SETTLEMENT VIOLATION'].count()*100)"
   ]
  },
  {
   "cell_type": "code",
   "execution_count": 13,
   "id": "b9727c03",
   "metadata": {
    "scrolled": true
   },
   "outputs": [
    {
     "name": "stdout",
     "output_type": "stream",
     "text": [
      "Q2: 7.53 % of violations were issued by BIC to unlicensed trade waste companies from 2015-2020\n"
     ]
    }
   ],
   "source": [
    "print('Q2:',Percent_BIC_Early_Settlements.round(2), '% of violations were issued by BIC to unlicensed trade waste companies from 2015-2020')"
   ]
  },
  {
   "cell_type": "code",
   "execution_count": 14,
   "id": "cfccdcf6",
   "metadata": {
    "scrolled": true
   },
   "outputs": [
    {
     "name": "stdout",
     "output_type": "stream",
     "text": [
      "Top 5 rule codes of issued violations from 2015-2020 are:\n"
     ]
    },
    {
     "data": {
      "text/plain": [
       "NYC AC 16-505(a)        1279\n",
       "17 RCNY 1-09             347\n",
       "17 RCNY 2-05(b)(iii)     326\n",
       "17 RCNY 7-05             222\n",
       "17 RCNY 5-08(n)          220\n",
       "Name: RULE CODE, dtype: int64"
      ]
     },
     "execution_count": 14,
     "metadata": {},
     "output_type": "execute_result"
    }
   ],
   "source": [
    "# What are the top 5 rule codes of issued violations in a certain period of time?\n",
    "#Use value counts to tabulate what are the top 5 most issued in the last 5 years\n",
    "print('Top 5 rule codes of issued violations from 2015-2020 are:')\n",
    "violations15_20['RULE CODE'].value_counts().sort_values(ascending=False).head(5)"
   ]
  },
  {
   "cell_type": "markdown",
   "id": "f9165fa5",
   "metadata": {},
   "source": [
    "### GS Questions\n",
    "#### 1. 2371 violations were issued by BIC to unliscensed trade waste companies between 2015-2020\n",
    "#### 2. 7.53 % of violations were issued by BIC to unlicensed trade waste companies from 2015-2020\n",
    "#### 3. Top 5 rule codes of issued violations from 2015-2020 are: NYC AC 16-505(a) , 17 RCNY 1-09, 17 RCNY 2-05(b)(iii), 17 RCNY 7-05, 17 RCNY 5-08(n)"
   ]
  },
  {
   "cell_type": "markdown",
   "id": "a9dc2938",
   "metadata": {},
   "source": [
    "### Unique analysis \n",
    "#### Let's get an inside view of how  fines play a role for violations, \n",
    "\n",
    "##### 1. How has the average fine price changed in the last 5 years\n",
    "##### 2. Which account types are tied to a higher payment in fines\n",
    "##### 3. How quickly do fines get paid - do it by violation type or account type"
   ]
  },
  {
   "cell_type": "code",
   "execution_count": 15,
   "id": "f34a4b6e",
   "metadata": {
    "scrolled": true
   },
   "outputs": [
    {
     "name": "stdout",
     "output_type": "stream",
     "text": [
      "<class 'pandas.core.frame.DataFrame'>\n",
      "Int64Index: 4595 entries, 0 to 7736\n",
      "Data columns (total 15 columns):\n",
      " #   Column                      Non-Null Count  Dtype              \n",
      "---  ------                      --------------  -----              \n",
      " 0   VIOLATION NUMBER            4595 non-null   object             \n",
      " 1   BIC NUMBER                  2223 non-null   float64            \n",
      " 2   TYPE OF VIOLATION           4595 non-null   object             \n",
      " 3   VIOLATION PHASE             4595 non-null   object             \n",
      " 4   VIOLATION DISPOSITION       4595 non-null   object             \n",
      " 5   ACCOUNT TYPE                4595 non-null   object             \n",
      " 6   DATE OF VIOLATION           4595 non-null   datetime64[ns]     \n",
      " 7   DATE VIOLATION ISSUED       4595 non-null   datetime64[ns, UTC]\n",
      " 8   MAXIMUM FINE                4593 non-null   float64            \n",
      " 9   FINE AMOUNT                 4349 non-null   float64            \n",
      " 10  DATE FINE PAID              3447 non-null   object             \n",
      " 11  EARLY SETTLEMENT VIOLATION  4595 non-null   bool               \n",
      " 12  RULE CODE                   4595 non-null   object             \n",
      " 13  DESCRIPTION OF RULE         4595 non-null   object             \n",
      " 14  EXPORT DATE                 4595 non-null   object             \n",
      "dtypes: bool(1), datetime64[ns, UTC](1), datetime64[ns](1), float64(3), object(9)\n",
      "memory usage: 543.0+ KB\n"
     ]
    }
   ],
   "source": [
    "violations15_20.info()"
   ]
  },
  {
   "cell_type": "code",
   "execution_count": 16,
   "id": "e76672d6",
   "metadata": {
    "scrolled": true
   },
   "outputs": [
    {
     "name": "stderr",
     "output_type": "stream",
     "text": [
      "/var/folders/vp/2flcfxx12ns473tz77qt51v80000gn/T/ipykernel_21570/4074200480.py:1: SettingWithCopyWarning: \n",
      "A value is trying to be set on a copy of a slice from a DataFrame.\n",
      "Try using .loc[row_indexer,col_indexer] = value instead\n",
      "\n",
      "See the caveats in the documentation: https://pandas.pydata.org/pandas-docs/stable/user_guide/indexing.html#returning-a-view-versus-a-copy\n",
      "  violations15_20['YEAR OF VIOLATION ISSUED']=violations15_20['DATE VIOLATION ISSUED'].dt.year\n"
     ]
    }
   ],
   "source": [
    "violations15_20['YEAR OF VIOLATION ISSUED']=violations15_20['DATE VIOLATION ISSUED'].dt.year"
   ]
  },
  {
   "cell_type": "code",
   "execution_count": 17,
   "id": "977be6af",
   "metadata": {
    "scrolled": false
   },
   "outputs": [
    {
     "data": {
      "text/plain": [
       "Text(0, 0.5, 'Violation Fine Amount ($)')"
      ]
     },
     "execution_count": 17,
     "metadata": {},
     "output_type": "execute_result"
    },
    {
     "data": {
      "image/png": "[encoded data removed]",
      "text/plain": [
       "<Figure size 640x480 with 1 Axes>"
      ]
     },
     "metadata": {},
     "output_type": "display_data"
    }
   ],
   "source": [
    "##### 1. How has the average fine price changed in the last 5 years\n",
    "violations15_20.groupby('YEAR OF VIOLATION ISSUED')['FINE AMOUNT'].mean().plot()\n",
    "plt.title('Average Violation Fine Amount over last 5 Years ')\n",
    "plt.ylabel('Violation Fine Amount ($)')"
   ]
  },
  {
   "cell_type": "markdown",
   "id": "184e9b62",
   "metadata": {},
   "source": [
    "## Fines have been recently declining, with a spike in 2017 "
   ]
  },
  {
   "cell_type": "code",
   "execution_count": 18,
   "id": "b8d63277",
   "metadata": {
    "scrolled": true
   },
   "outputs": [],
   "source": [
    "# 2. Which account types have paid the most fines in each of the last 5 yeras"
   ]
  },
  {
   "cell_type": "code",
   "execution_count": 19,
   "id": "0a3eb7a6",
   "metadata": {
    "scrolled": true
   },
   "outputs": [
    {
     "data": {
      "text/html": [
       "<div>\n",
       "<style scoped>\n",
       "    .dataframe tbody tr th:only-of-type {\n",
       "        vertical-align: middle;\n",
       "    }\n",
       "\n",
       "    .dataframe tbody tr th {\n",
       "        vertical-align: top;\n",
       "    }\n",
       "\n",
       "    .dataframe thead th {\n",
       "        text-align: right;\n",
       "    }\n",
       "</style>\n",
       "<table border=\"1\" class=\"dataframe\">\n",
       "  <thead>\n",
       "    <tr style=\"text-align: right;\">\n",
       "      <th>ACCOUNT TYPE</th>\n",
       "      <th>CL1</th>\n",
       "      <th>CL2 - Broker</th>\n",
       "      <th>CL2 - Exempt</th>\n",
       "      <th>License</th>\n",
       "      <th>Registered</th>\n",
       "      <th>Unlicensed</th>\n",
       "    </tr>\n",
       "    <tr>\n",
       "      <th>YEAR OF VIOLATION ISSUED</th>\n",
       "      <th></th>\n",
       "      <th></th>\n",
       "      <th></th>\n",
       "      <th></th>\n",
       "      <th></th>\n",
       "      <th></th>\n",
       "    </tr>\n",
       "  </thead>\n",
       "  <tbody>\n",
       "    <tr>\n",
       "      <th>2015</th>\n",
       "      <td>6400.0</td>\n",
       "      <td>58650.0</td>\n",
       "      <td>157050.0</td>\n",
       "      <td>482702.92</td>\n",
       "      <td>NaN</td>\n",
       "      <td>314500.00</td>\n",
       "    </tr>\n",
       "    <tr>\n",
       "      <th>2016</th>\n",
       "      <td>19350.0</td>\n",
       "      <td>3050.0</td>\n",
       "      <td>165150.0</td>\n",
       "      <td>595900.00</td>\n",
       "      <td>NaN</td>\n",
       "      <td>619825.00</td>\n",
       "    </tr>\n",
       "    <tr>\n",
       "      <th>2017</th>\n",
       "      <td>4200.0</td>\n",
       "      <td>27750.0</td>\n",
       "      <td>110750.0</td>\n",
       "      <td>266500.00</td>\n",
       "      <td>NaN</td>\n",
       "      <td>918200.00</td>\n",
       "    </tr>\n",
       "    <tr>\n",
       "      <th>2018</th>\n",
       "      <td>8400.0</td>\n",
       "      <td>27150.0</td>\n",
       "      <td>156900.0</td>\n",
       "      <td>261400.00</td>\n",
       "      <td>NaN</td>\n",
       "      <td>370150.00</td>\n",
       "    </tr>\n",
       "    <tr>\n",
       "      <th>2019</th>\n",
       "      <td>16350.0</td>\n",
       "      <td>303250.0</td>\n",
       "      <td>178050.0</td>\n",
       "      <td>165900.00</td>\n",
       "      <td>1000.0</td>\n",
       "      <td>250299.97</td>\n",
       "    </tr>\n",
       "    <tr>\n",
       "      <th>2020</th>\n",
       "      <td>NaN</td>\n",
       "      <td>NaN</td>\n",
       "      <td>10750.0</td>\n",
       "      <td>4000.00</td>\n",
       "      <td>500.0</td>\n",
       "      <td>1084480.00</td>\n",
       "    </tr>\n",
       "    <tr>\n",
       "      <th>2021</th>\n",
       "      <td>NaN</td>\n",
       "      <td>NaN</td>\n",
       "      <td>NaN</td>\n",
       "      <td>0.00</td>\n",
       "      <td>NaN</td>\n",
       "      <td>485050.00</td>\n",
       "    </tr>\n",
       "    <tr>\n",
       "      <th>2022</th>\n",
       "      <td>NaN</td>\n",
       "      <td>NaN</td>\n",
       "      <td>NaN</td>\n",
       "      <td>NaN</td>\n",
       "      <td>NaN</td>\n",
       "      <td>5500.00</td>\n",
       "    </tr>\n",
       "  </tbody>\n",
       "</table>\n",
       "</div>"
      ],
      "text/plain": [
       "ACCOUNT TYPE                  CL1  CL2 - Broker  CL2 - Exempt    License  \\\n",
       "YEAR OF VIOLATION ISSUED                                                   \n",
       "2015                       6400.0       58650.0      157050.0  482702.92   \n",
       "2016                      19350.0        3050.0      165150.0  595900.00   \n",
       "2017                       4200.0       27750.0      110750.0  266500.00   \n",
       "2018                       8400.0       27150.0      156900.0  261400.00   \n",
       "2019                      16350.0      303250.0      178050.0  165900.00   \n",
       "2020                          NaN           NaN       10750.0    4000.00   \n",
       "2021                          NaN           NaN           NaN       0.00   \n",
       "2022                          NaN           NaN           NaN        NaN   \n",
       "\n",
       "ACCOUNT TYPE              Registered  Unlicensed  \n",
       "YEAR OF VIOLATION ISSUED                          \n",
       "2015                             NaN   314500.00  \n",
       "2016                             NaN   619825.00  \n",
       "2017                             NaN   918200.00  \n",
       "2018                             NaN   370150.00  \n",
       "2019                          1000.0   250299.97  \n",
       "2020                           500.0  1084480.00  \n",
       "2021                             NaN   485050.00  \n",
       "2022                             NaN     5500.00  "
      ]
     },
     "execution_count": 19,
     "metadata": {},
     "output_type": "execute_result"
    }
   ],
   "source": [
    "#Get the fine totals by year\n",
    "violations_total_fine = violations15_20.groupby(['YEAR OF VIOLATION ISSUED','ACCOUNT TYPE'])['FINE AMOUNT'].aggregate(['sum'].copy())\n",
    "#Reset Index\n",
    "violations_total_fine.reset_index(level=1, inplace=True)\n",
    "#Pivot to plot date\n",
    "violations_total_fine_pivot = pd.pivot_table(violations_total_fine,values=\"sum\",index=\"YEAR OF VIOLATION ISSUED\",columns=\"ACCOUNT TYPE\")\n",
    "#fill NA values with 0 for plotting \n",
    "violations_total_fine_pivot"
   ]
  },
  {
   "cell_type": "code",
   "execution_count": 20,
   "id": "7e6da6da",
   "metadata": {},
   "outputs": [
    {
     "data": {
      "text/plain": [
       "ACCOUNT TYPE\n",
       "Unlicensed      4048004.97\n",
       "License         1776402.92\n",
       "CL2 - Exempt     778650.00\n",
       "CL2 - Broker     419850.00\n",
       "CL1               54700.00\n",
       "Registered         1500.00\n",
       "dtype: float64"
      ]
     },
     "execution_count": 20,
     "metadata": {},
     "output_type": "execute_result"
    }
   ],
   "source": [
    "violations_total_fine_pivot.sum().sort_values(ascending=False)"
   ]
  },
  {
   "cell_type": "code",
   "execution_count": 21,
   "id": "1b7dcbdc",
   "metadata": {
    "scrolled": true
   },
   "outputs": [
    {
     "data": {
      "text/plain": [
       "<AxesSubplot: title={'center': 'Violations by account type over the last 5 years'}, xlabel='Account Type', ylabel='# of violations'>"
      ]
     },
     "execution_count": 21,
     "metadata": {},
     "output_type": "execute_result"
    },
    {
     "data": {
      "image/png": "[encoded data removed]",
      "text/plain": [
       "<Figure size 640x480 with 1 Axes>"
      ]
     },
     "metadata": {},
     "output_type": "display_data"
    }
   ],
   "source": [
    "violations_total_fine_pivot.sum().plot.bar(title = 'Violations by account type over the last 5 years',xlabel='Account Type',ylabel='# of violations')"
   ]
  },
  {
   "cell_type": "markdown",
   "id": "81373faf",
   "metadata": {},
   "source": [
    "#### In recent years all violations seem to be attributed to unlicensed accounts, previously it was more evenly distributed. \n",
    "### Unlicensed accounts , liscensed account and CL-2 Exempt are the top 3 account types for fine totals overall"
   ]
  },
  {
   "cell_type": "code",
   "execution_count": 22,
   "id": "de123472",
   "metadata": {
    "scrolled": true
   },
   "outputs": [],
   "source": [
    "##### 3. How quickly do fines get paid - do it by violation type or account type"
   ]
  },
  {
   "cell_type": "code",
   "execution_count": 23,
   "id": "386c07f1",
   "metadata": {
    "scrolled": true
   },
   "outputs": [
    {
     "name": "stdout",
     "output_type": "stream",
     "text": [
      "<class 'pandas.core.frame.DataFrame'>\n",
      "Int64Index: 4595 entries, 0 to 7736\n",
      "Data columns (total 16 columns):\n",
      " #   Column                      Non-Null Count  Dtype              \n",
      "---  ------                      --------------  -----              \n",
      " 0   VIOLATION NUMBER            4595 non-null   object             \n",
      " 1   BIC NUMBER                  2223 non-null   float64            \n",
      " 2   TYPE OF VIOLATION           4595 non-null   object             \n",
      " 3   VIOLATION PHASE             4595 non-null   object             \n",
      " 4   VIOLATION DISPOSITION       4595 non-null   object             \n",
      " 5   ACCOUNT TYPE                4595 non-null   object             \n",
      " 6   DATE OF VIOLATION           4595 non-null   datetime64[ns]     \n",
      " 7   DATE VIOLATION ISSUED       4595 non-null   datetime64[ns, UTC]\n",
      " 8   MAXIMUM FINE                4593 non-null   float64            \n",
      " 9   FINE AMOUNT                 4349 non-null   float64            \n",
      " 10  DATE FINE PAID              3447 non-null   object             \n",
      " 11  EARLY SETTLEMENT VIOLATION  4595 non-null   bool               \n",
      " 12  RULE CODE                   4595 non-null   object             \n",
      " 13  DESCRIPTION OF RULE         4595 non-null   object             \n",
      " 14  EXPORT DATE                 4595 non-null   object             \n",
      " 15  YEAR OF VIOLATION ISSUED    4595 non-null   int64              \n",
      "dtypes: bool(1), datetime64[ns, UTC](1), datetime64[ns](1), float64(3), int64(1), object(9)\n",
      "memory usage: 578.9+ KB\n"
     ]
    }
   ],
   "source": [
    "violations15_20.info()"
   ]
  },
  {
   "cell_type": "code",
   "execution_count": 24,
   "id": "584935b2",
   "metadata": {
    "scrolled": true
   },
   "outputs": [
    {
     "name": "stderr",
     "output_type": "stream",
     "text": [
      "/var/folders/vp/2flcfxx12ns473tz77qt51v80000gn/T/ipykernel_21570/2442502258.py:4: SettingWithCopyWarning: \n",
      "A value is trying to be set on a copy of a slice from a DataFrame.\n",
      "Try using .loc[row_indexer,col_indexer] = value instead\n",
      "\n",
      "See the caveats in the documentation: https://pandas.pydata.org/pandas-docs/stable/user_guide/indexing.html#returning-a-view-versus-a-copy\n",
      "  violations_dates[[\"DATE VIOLATION ISSUED\",\"DATE OF VIOLATION\",\"DATE FINE PAID\"]] = violations_dates[[\"DATE VIOLATION ISSUED\",\"DATE OF VIOLATION\",\"DATE FINE PAID\"]].apply(pd.to_datetime,utc=True, errors='coerce')   # Convert multiple columns\n"
     ]
    },
    {
     "data": {
      "text/html": [
       "<div>\n",
       "<style scoped>\n",
       "    .dataframe tbody tr th:only-of-type {\n",
       "        vertical-align: middle;\n",
       "    }\n",
       "\n",
       "    .dataframe tbody tr th {\n",
       "        vertical-align: top;\n",
       "    }\n",
       "\n",
       "    .dataframe thead th {\n",
       "        text-align: right;\n",
       "    }\n",
       "</style>\n",
       "<table border=\"1\" class=\"dataframe\">\n",
       "  <thead>\n",
       "    <tr style=\"text-align: right;\">\n",
       "      <th></th>\n",
       "      <th>VIOLATION NUMBER</th>\n",
       "      <th>TYPE OF VIOLATION</th>\n",
       "      <th>ACCOUNT TYPE</th>\n",
       "      <th>DATE OF VIOLATION</th>\n",
       "      <th>DATE VIOLATION ISSUED</th>\n",
       "      <th>DATE FINE PAID</th>\n",
       "      <th>YEAR OF VIOLATION ISSUED</th>\n",
       "    </tr>\n",
       "  </thead>\n",
       "  <tbody>\n",
       "    <tr>\n",
       "      <th>0</th>\n",
       "      <td>TWC-219653</td>\n",
       "      <td>OATH</td>\n",
       "      <td>Unlicensed</td>\n",
       "      <td>2020-07-07 00:00:00+00:00</td>\n",
       "      <td>2020-10-01 16:54:00+00:00</td>\n",
       "      <td>2020-10-11 00:00:00+00:00</td>\n",
       "      <td>2020</td>\n",
       "    </tr>\n",
       "    <tr>\n",
       "      <th>1</th>\n",
       "      <td>TWC-218679</td>\n",
       "      <td>OATH</td>\n",
       "      <td>Unlicensed</td>\n",
       "      <td>2020-02-20 00:00:00+00:00</td>\n",
       "      <td>2020-02-20 15:49:00+00:00</td>\n",
       "      <td>2020-02-21 00:00:00+00:00</td>\n",
       "      <td>2020</td>\n",
       "    </tr>\n",
       "    <tr>\n",
       "      <th>4</th>\n",
       "      <td>TWC-218495</td>\n",
       "      <td>OATH</td>\n",
       "      <td>Unlicensed</td>\n",
       "      <td>2020-01-27 00:00:00+00:00</td>\n",
       "      <td>2020-02-04 19:33:00+00:00</td>\n",
       "      <td>NaT</td>\n",
       "      <td>2020</td>\n",
       "    </tr>\n",
       "    <tr>\n",
       "      <th>5</th>\n",
       "      <td>TWC-212092</td>\n",
       "      <td>OATH</td>\n",
       "      <td>Unlicensed</td>\n",
       "      <td>2015-07-07 00:00:00+00:00</td>\n",
       "      <td>2015-07-14 12:19:00+00:00</td>\n",
       "      <td>2015-07-16 00:00:00+00:00</td>\n",
       "      <td>2015</td>\n",
       "    </tr>\n",
       "    <tr>\n",
       "      <th>6</th>\n",
       "      <td>TWC-213258</td>\n",
       "      <td>OATH</td>\n",
       "      <td>CL2 - Exempt</td>\n",
       "      <td>2016-03-16 00:00:00+00:00</td>\n",
       "      <td>2016-03-16 18:49:00+00:00</td>\n",
       "      <td>2016-03-17 00:00:00+00:00</td>\n",
       "      <td>2016</td>\n",
       "    </tr>\n",
       "    <tr>\n",
       "      <th>...</th>\n",
       "      <td>...</td>\n",
       "      <td>...</td>\n",
       "      <td>...</td>\n",
       "      <td>...</td>\n",
       "      <td>...</td>\n",
       "      <td>...</td>\n",
       "      <td>...</td>\n",
       "    </tr>\n",
       "    <tr>\n",
       "      <th>7729</th>\n",
       "      <td>TWC-212951</td>\n",
       "      <td>OATH</td>\n",
       "      <td>Unlicensed</td>\n",
       "      <td>2016-01-21 00:00:00+00:00</td>\n",
       "      <td>2016-01-27 19:49:00+00:00</td>\n",
       "      <td>2016-02-03 00:00:00+00:00</td>\n",
       "      <td>2016</td>\n",
       "    </tr>\n",
       "    <tr>\n",
       "      <th>7730</th>\n",
       "      <td>TWC-216698</td>\n",
       "      <td>OATH</td>\n",
       "      <td>CL2 - Exempt</td>\n",
       "      <td>2018-04-02 00:00:00+00:00</td>\n",
       "      <td>2019-01-30 16:00:00+00:00</td>\n",
       "      <td>2019-02-26 00:00:00+00:00</td>\n",
       "      <td>2019</td>\n",
       "    </tr>\n",
       "    <tr>\n",
       "      <th>7732</th>\n",
       "      <td>TWC-215321</td>\n",
       "      <td>OATH</td>\n",
       "      <td>License</td>\n",
       "      <td>2017-12-20 00:00:00+00:00</td>\n",
       "      <td>2018-01-23 14:07:00+00:00</td>\n",
       "      <td>2018-03-01 00:00:00+00:00</td>\n",
       "      <td>2018</td>\n",
       "    </tr>\n",
       "    <tr>\n",
       "      <th>7734</th>\n",
       "      <td>TWC-216552</td>\n",
       "      <td>OATH</td>\n",
       "      <td>License</td>\n",
       "      <td>2018-12-07 00:00:00+00:00</td>\n",
       "      <td>2018-12-12 18:08:00+00:00</td>\n",
       "      <td>NaT</td>\n",
       "      <td>2018</td>\n",
       "    </tr>\n",
       "    <tr>\n",
       "      <th>7736</th>\n",
       "      <td>TWC-214816</td>\n",
       "      <td>OATH</td>\n",
       "      <td>Unlicensed</td>\n",
       "      <td>2017-03-25 00:00:00+00:00</td>\n",
       "      <td>2017-05-18 12:36:00+00:00</td>\n",
       "      <td>2017-07-20 00:00:00+00:00</td>\n",
       "      <td>2017</td>\n",
       "    </tr>\n",
       "  </tbody>\n",
       "</table>\n",
       "<p>4595 rows × 7 columns</p>\n",
       "</div>"
      ],
      "text/plain": [
       "     VIOLATION NUMBER TYPE OF VIOLATION  ACCOUNT TYPE  \\\n",
       "0          TWC-219653              OATH    Unlicensed   \n",
       "1          TWC-218679              OATH    Unlicensed   \n",
       "4          TWC-218495              OATH    Unlicensed   \n",
       "5          TWC-212092              OATH    Unlicensed   \n",
       "6          TWC-213258              OATH  CL2 - Exempt   \n",
       "...               ...               ...           ...   \n",
       "7729       TWC-212951              OATH    Unlicensed   \n",
       "7730       TWC-216698              OATH  CL2 - Exempt   \n",
       "7732       TWC-215321              OATH       License   \n",
       "7734       TWC-216552              OATH       License   \n",
       "7736       TWC-214816              OATH    Unlicensed   \n",
       "\n",
       "             DATE OF VIOLATION     DATE VIOLATION ISSUED  \\\n",
       "0    2020-07-07 00:00:00+00:00 2020-10-01 16:54:00+00:00   \n",
       "1    2020-02-20 00:00:00+00:00 2020-02-20 15:49:00+00:00   \n",
       "4    2020-01-27 00:00:00+00:00 2020-02-04 19:33:00+00:00   \n",
       "5    2015-07-07 00:00:00+00:00 2015-07-14 12:19:00+00:00   \n",
       "6    2016-03-16 00:00:00+00:00 2016-03-16 18:49:00+00:00   \n",
       "...                        ...                       ...   \n",
       "7729 2016-01-21 00:00:00+00:00 2016-01-27 19:49:00+00:00   \n",
       "7730 2018-04-02 00:00:00+00:00 2019-01-30 16:00:00+00:00   \n",
       "7732 2017-12-20 00:00:00+00:00 2018-01-23 14:07:00+00:00   \n",
       "7734 2018-12-07 00:00:00+00:00 2018-12-12 18:08:00+00:00   \n",
       "7736 2017-03-25 00:00:00+00:00 2017-05-18 12:36:00+00:00   \n",
       "\n",
       "                DATE FINE PAID  YEAR OF VIOLATION ISSUED  \n",
       "0    2020-10-11 00:00:00+00:00                      2020  \n",
       "1    2020-02-21 00:00:00+00:00                      2020  \n",
       "4                          NaT                      2020  \n",
       "5    2015-07-16 00:00:00+00:00                      2015  \n",
       "6    2016-03-17 00:00:00+00:00                      2016  \n",
       "...                        ...                       ...  \n",
       "7729 2016-02-03 00:00:00+00:00                      2016  \n",
       "7730 2019-02-26 00:00:00+00:00                      2019  \n",
       "7732 2018-03-01 00:00:00+00:00                      2018  \n",
       "7734                       NaT                      2018  \n",
       "7736 2017-07-20 00:00:00+00:00                      2017  \n",
       "\n",
       "[4595 rows x 7 columns]"
      ]
     },
     "execution_count": 24,
     "metadata": {},
     "output_type": "execute_result"
    }
   ],
   "source": [
    "#Let's make the data only what we need \n",
    "violations_dates = violations15_20.iloc[:, [0,2,5,6,7,10,15]]\n",
    "#standardize date format\n",
    "violations_dates[[\"DATE VIOLATION ISSUED\",\"DATE OF VIOLATION\",\"DATE FINE PAID\"]] = violations_dates[[\"DATE VIOLATION ISSUED\",\"DATE OF VIOLATION\",\"DATE FINE PAID\"]].apply(pd.to_datetime,utc=True, errors='coerce')   # Convert multiple columns\n",
    "#violations_dates['DATE VIOLATION ISSUED'] = pd.to_datetime(violations_dates.DATE VIOLATION ISSUED).dt.tz_localize(None)\n",
    "violations_dates"
   ]
  },
  {
   "cell_type": "code",
   "execution_count": 25,
   "id": "4d8fbb46",
   "metadata": {
    "scrolled": false
   },
   "outputs": [
    {
     "data": {
      "text/html": [
       "<div>\n",
       "<style scoped>\n",
       "    .dataframe tbody tr th:only-of-type {\n",
       "        vertical-align: middle;\n",
       "    }\n",
       "\n",
       "    .dataframe tbody tr th {\n",
       "        vertical-align: top;\n",
       "    }\n",
       "\n",
       "    .dataframe thead th {\n",
       "        text-align: right;\n",
       "    }\n",
       "</style>\n",
       "<table border=\"1\" class=\"dataframe\">\n",
       "  <thead>\n",
       "    <tr style=\"text-align: right;\">\n",
       "      <th></th>\n",
       "      <th>DATE VIOLATION ISSUED</th>\n",
       "      <th>DATE FINE PAID</th>\n",
       "    </tr>\n",
       "  </thead>\n",
       "  <tbody>\n",
       "    <tr>\n",
       "      <th>0</th>\n",
       "      <td>2020-10-01 16:54:00+00:00</td>\n",
       "      <td>2020-10-11 00:00:00+00:00</td>\n",
       "    </tr>\n",
       "    <tr>\n",
       "      <th>1</th>\n",
       "      <td>2020-02-20 15:49:00+00:00</td>\n",
       "      <td>2020-02-21 00:00:00+00:00</td>\n",
       "    </tr>\n",
       "    <tr>\n",
       "      <th>4</th>\n",
       "      <td>2020-02-04 19:33:00+00:00</td>\n",
       "      <td>NaT</td>\n",
       "    </tr>\n",
       "    <tr>\n",
       "      <th>5</th>\n",
       "      <td>2015-07-14 12:19:00+00:00</td>\n",
       "      <td>2015-07-16 00:00:00+00:00</td>\n",
       "    </tr>\n",
       "    <tr>\n",
       "      <th>6</th>\n",
       "      <td>2016-03-16 18:49:00+00:00</td>\n",
       "      <td>2016-03-17 00:00:00+00:00</td>\n",
       "    </tr>\n",
       "    <tr>\n",
       "      <th>...</th>\n",
       "      <td>...</td>\n",
       "      <td>...</td>\n",
       "    </tr>\n",
       "    <tr>\n",
       "      <th>7729</th>\n",
       "      <td>2016-01-27 19:49:00+00:00</td>\n",
       "      <td>2016-02-03 00:00:00+00:00</td>\n",
       "    </tr>\n",
       "    <tr>\n",
       "      <th>7730</th>\n",
       "      <td>2019-01-30 16:00:00+00:00</td>\n",
       "      <td>2019-02-26 00:00:00+00:00</td>\n",
       "    </tr>\n",
       "    <tr>\n",
       "      <th>7732</th>\n",
       "      <td>2018-01-23 14:07:00+00:00</td>\n",
       "      <td>2018-03-01 00:00:00+00:00</td>\n",
       "    </tr>\n",
       "    <tr>\n",
       "      <th>7734</th>\n",
       "      <td>2018-12-12 18:08:00+00:00</td>\n",
       "      <td>NaT</td>\n",
       "    </tr>\n",
       "    <tr>\n",
       "      <th>7736</th>\n",
       "      <td>2017-05-18 12:36:00+00:00</td>\n",
       "      <td>2017-07-20 00:00:00+00:00</td>\n",
       "    </tr>\n",
       "  </tbody>\n",
       "</table>\n",
       "<p>4595 rows × 2 columns</p>\n",
       "</div>"
      ],
      "text/plain": [
       "         DATE VIOLATION ISSUED            DATE FINE PAID\n",
       "0    2020-10-01 16:54:00+00:00 2020-10-11 00:00:00+00:00\n",
       "1    2020-02-20 15:49:00+00:00 2020-02-21 00:00:00+00:00\n",
       "4    2020-02-04 19:33:00+00:00                       NaT\n",
       "5    2015-07-14 12:19:00+00:00 2015-07-16 00:00:00+00:00\n",
       "6    2016-03-16 18:49:00+00:00 2016-03-17 00:00:00+00:00\n",
       "...                        ...                       ...\n",
       "7729 2016-01-27 19:49:00+00:00 2016-02-03 00:00:00+00:00\n",
       "7730 2019-01-30 16:00:00+00:00 2019-02-26 00:00:00+00:00\n",
       "7732 2018-01-23 14:07:00+00:00 2018-03-01 00:00:00+00:00\n",
       "7734 2018-12-12 18:08:00+00:00                       NaT\n",
       "7736 2017-05-18 12:36:00+00:00 2017-07-20 00:00:00+00:00\n",
       "\n",
       "[4595 rows x 2 columns]"
      ]
     },
     "execution_count": 25,
     "metadata": {},
     "output_type": "execute_result"
    }
   ],
   "source": [
    "violations_dates[['DATE VIOLATION ISSUED','DATE FINE PAID']]"
   ]
  },
  {
   "cell_type": "code",
   "execution_count": 26,
   "id": "94d725f4",
   "metadata": {
    "scrolled": true
   },
   "outputs": [
    {
     "name": "stderr",
     "output_type": "stream",
     "text": [
      "/var/folders/vp/2flcfxx12ns473tz77qt51v80000gn/T/ipykernel_21570/906233906.py:1: SettingWithCopyWarning: \n",
      "A value is trying to be set on a copy of a slice from a DataFrame.\n",
      "Try using .loc[row_indexer,col_indexer] = value instead\n",
      "\n",
      "See the caveats in the documentation: https://pandas.pydata.org/pandas-docs/stable/user_guide/indexing.html#returning-a-view-versus-a-copy\n",
      "  violations_dates['DURATION OF DAYS TO PAY FINE'] = (np.round((violations_dates['DATE FINE PAID'] - violations_dates['DATE VIOLATION ISSUED']) / np.timedelta64(1, 'D'),decimals =0))\n"
     ]
    }
   ],
   "source": [
    "violations_dates['DURATION OF DAYS TO PAY FINE'] = (np.round((violations_dates['DATE FINE PAID'] - violations_dates['DATE VIOLATION ISSUED']) / np.timedelta64(1, 'D'),decimals =0))\n"
   ]
  },
  {
   "cell_type": "code",
   "execution_count": 27,
   "id": "cafce3b5",
   "metadata": {
    "scrolled": true
   },
   "outputs": [
    {
     "data": {
      "text/html": [
       "<div>\n",
       "<style scoped>\n",
       "    .dataframe tbody tr th:only-of-type {\n",
       "        vertical-align: middle;\n",
       "    }\n",
       "\n",
       "    .dataframe tbody tr th {\n",
       "        vertical-align: top;\n",
       "    }\n",
       "\n",
       "    .dataframe thead th {\n",
       "        text-align: right;\n",
       "    }\n",
       "</style>\n",
       "<table border=\"1\" class=\"dataframe\">\n",
       "  <thead>\n",
       "    <tr style=\"text-align: right;\">\n",
       "      <th></th>\n",
       "      <th>VIOLATION NUMBER</th>\n",
       "      <th>TYPE OF VIOLATION</th>\n",
       "      <th>ACCOUNT TYPE</th>\n",
       "      <th>DATE OF VIOLATION</th>\n",
       "      <th>DATE VIOLATION ISSUED</th>\n",
       "      <th>DATE FINE PAID</th>\n",
       "      <th>YEAR OF VIOLATION ISSUED</th>\n",
       "      <th>DURATION OF DAYS TO PAY FINE</th>\n",
       "    </tr>\n",
       "  </thead>\n",
       "  <tbody>\n",
       "    <tr>\n",
       "      <th>0</th>\n",
       "      <td>TWC-219653</td>\n",
       "      <td>OATH</td>\n",
       "      <td>Unlicensed</td>\n",
       "      <td>2020-07-07 00:00:00+00:00</td>\n",
       "      <td>2020-10-01 16:54:00+00:00</td>\n",
       "      <td>2020-10-11 00:00:00+00:00</td>\n",
       "      <td>2020</td>\n",
       "      <td>9.0</td>\n",
       "    </tr>\n",
       "    <tr>\n",
       "      <th>1</th>\n",
       "      <td>TWC-218679</td>\n",
       "      <td>OATH</td>\n",
       "      <td>Unlicensed</td>\n",
       "      <td>2020-02-20 00:00:00+00:00</td>\n",
       "      <td>2020-02-20 15:49:00+00:00</td>\n",
       "      <td>2020-02-21 00:00:00+00:00</td>\n",
       "      <td>2020</td>\n",
       "      <td>0.0</td>\n",
       "    </tr>\n",
       "    <tr>\n",
       "      <th>4</th>\n",
       "      <td>TWC-218495</td>\n",
       "      <td>OATH</td>\n",
       "      <td>Unlicensed</td>\n",
       "      <td>2020-01-27 00:00:00+00:00</td>\n",
       "      <td>2020-02-04 19:33:00+00:00</td>\n",
       "      <td>NaT</td>\n",
       "      <td>2020</td>\n",
       "      <td>NaN</td>\n",
       "    </tr>\n",
       "    <tr>\n",
       "      <th>5</th>\n",
       "      <td>TWC-212092</td>\n",
       "      <td>OATH</td>\n",
       "      <td>Unlicensed</td>\n",
       "      <td>2015-07-07 00:00:00+00:00</td>\n",
       "      <td>2015-07-14 12:19:00+00:00</td>\n",
       "      <td>2015-07-16 00:00:00+00:00</td>\n",
       "      <td>2015</td>\n",
       "      <td>1.0</td>\n",
       "    </tr>\n",
       "    <tr>\n",
       "      <th>6</th>\n",
       "      <td>TWC-213258</td>\n",
       "      <td>OATH</td>\n",
       "      <td>CL2 - Exempt</td>\n",
       "      <td>2016-03-16 00:00:00+00:00</td>\n",
       "      <td>2016-03-16 18:49:00+00:00</td>\n",
       "      <td>2016-03-17 00:00:00+00:00</td>\n",
       "      <td>2016</td>\n",
       "      <td>0.0</td>\n",
       "    </tr>\n",
       "    <tr>\n",
       "      <th>...</th>\n",
       "      <td>...</td>\n",
       "      <td>...</td>\n",
       "      <td>...</td>\n",
       "      <td>...</td>\n",
       "      <td>...</td>\n",
       "      <td>...</td>\n",
       "      <td>...</td>\n",
       "      <td>...</td>\n",
       "    </tr>\n",
       "    <tr>\n",
       "      <th>7729</th>\n",
       "      <td>TWC-212951</td>\n",
       "      <td>OATH</td>\n",
       "      <td>Unlicensed</td>\n",
       "      <td>2016-01-21 00:00:00+00:00</td>\n",
       "      <td>2016-01-27 19:49:00+00:00</td>\n",
       "      <td>2016-02-03 00:00:00+00:00</td>\n",
       "      <td>2016</td>\n",
       "      <td>6.0</td>\n",
       "    </tr>\n",
       "    <tr>\n",
       "      <th>7730</th>\n",
       "      <td>TWC-216698</td>\n",
       "      <td>OATH</td>\n",
       "      <td>CL2 - Exempt</td>\n",
       "      <td>2018-04-02 00:00:00+00:00</td>\n",
       "      <td>2019-01-30 16:00:00+00:00</td>\n",
       "      <td>2019-02-26 00:00:00+00:00</td>\n",
       "      <td>2019</td>\n",
       "      <td>26.0</td>\n",
       "    </tr>\n",
       "    <tr>\n",
       "      <th>7732</th>\n",
       "      <td>TWC-215321</td>\n",
       "      <td>OATH</td>\n",
       "      <td>License</td>\n",
       "      <td>2017-12-20 00:00:00+00:00</td>\n",
       "      <td>2018-01-23 14:07:00+00:00</td>\n",
       "      <td>2018-03-01 00:00:00+00:00</td>\n",
       "      <td>2018</td>\n",
       "      <td>36.0</td>\n",
       "    </tr>\n",
       "    <tr>\n",
       "      <th>7734</th>\n",
       "      <td>TWC-216552</td>\n",
       "      <td>OATH</td>\n",
       "      <td>License</td>\n",
       "      <td>2018-12-07 00:00:00+00:00</td>\n",
       "      <td>2018-12-12 18:08:00+00:00</td>\n",
       "      <td>NaT</td>\n",
       "      <td>2018</td>\n",
       "      <td>NaN</td>\n",
       "    </tr>\n",
       "    <tr>\n",
       "      <th>7736</th>\n",
       "      <td>TWC-214816</td>\n",
       "      <td>OATH</td>\n",
       "      <td>Unlicensed</td>\n",
       "      <td>2017-03-25 00:00:00+00:00</td>\n",
       "      <td>2017-05-18 12:36:00+00:00</td>\n",
       "      <td>2017-07-20 00:00:00+00:00</td>\n",
       "      <td>2017</td>\n",
       "      <td>62.0</td>\n",
       "    </tr>\n",
       "  </tbody>\n",
       "</table>\n",
       "<p>4595 rows × 8 columns</p>\n",
       "</div>"
      ],
      "text/plain": [
       "     VIOLATION NUMBER TYPE OF VIOLATION  ACCOUNT TYPE  \\\n",
       "0          TWC-219653              OATH    Unlicensed   \n",
       "1          TWC-218679              OATH    Unlicensed   \n",
       "4          TWC-218495              OATH    Unlicensed   \n",
       "5          TWC-212092              OATH    Unlicensed   \n",
       "6          TWC-213258              OATH  CL2 - Exempt   \n",
       "...               ...               ...           ...   \n",
       "7729       TWC-212951              OATH    Unlicensed   \n",
       "7730       TWC-216698              OATH  CL2 - Exempt   \n",
       "7732       TWC-215321              OATH       License   \n",
       "7734       TWC-216552              OATH       License   \n",
       "7736       TWC-214816              OATH    Unlicensed   \n",
       "\n",
       "             DATE OF VIOLATION     DATE VIOLATION ISSUED  \\\n",
       "0    2020-07-07 00:00:00+00:00 2020-10-01 16:54:00+00:00   \n",
       "1    2020-02-20 00:00:00+00:00 2020-02-20 15:49:00+00:00   \n",
       "4    2020-01-27 00:00:00+00:00 2020-02-04 19:33:00+00:00   \n",
       "5    2015-07-07 00:00:00+00:00 2015-07-14 12:19:00+00:00   \n",
       "6    2016-03-16 00:00:00+00:00 2016-03-16 18:49:00+00:00   \n",
       "...                        ...                       ...   \n",
       "7729 2016-01-21 00:00:00+00:00 2016-01-27 19:49:00+00:00   \n",
       "7730 2018-04-02 00:00:00+00:00 2019-01-30 16:00:00+00:00   \n",
       "7732 2017-12-20 00:00:00+00:00 2018-01-23 14:07:00+00:00   \n",
       "7734 2018-12-07 00:00:00+00:00 2018-12-12 18:08:00+00:00   \n",
       "7736 2017-03-25 00:00:00+00:00 2017-05-18 12:36:00+00:00   \n",
       "\n",
       "                DATE FINE PAID  YEAR OF VIOLATION ISSUED  \\\n",
       "0    2020-10-11 00:00:00+00:00                      2020   \n",
       "1    2020-02-21 00:00:00+00:00                      2020   \n",
       "4                          NaT                      2020   \n",
       "5    2015-07-16 00:00:00+00:00                      2015   \n",
       "6    2016-03-17 00:00:00+00:00                      2016   \n",
       "...                        ...                       ...   \n",
       "7729 2016-02-03 00:00:00+00:00                      2016   \n",
       "7730 2019-02-26 00:00:00+00:00                      2019   \n",
       "7732 2018-03-01 00:00:00+00:00                      2018   \n",
       "7734                       NaT                      2018   \n",
       "7736 2017-07-20 00:00:00+00:00                      2017   \n",
       "\n",
       "      DURATION OF DAYS TO PAY FINE  \n",
       "0                              9.0  \n",
       "1                              0.0  \n",
       "4                              NaN  \n",
       "5                              1.0  \n",
       "6                              0.0  \n",
       "...                            ...  \n",
       "7729                           6.0  \n",
       "7730                          26.0  \n",
       "7732                          36.0  \n",
       "7734                           NaN  \n",
       "7736                          62.0  \n",
       "\n",
       "[4595 rows x 8 columns]"
      ]
     },
     "execution_count": 27,
     "metadata": {},
     "output_type": "execute_result"
    }
   ],
   "source": [
    "violations_dates"
   ]
  },
  {
   "cell_type": "code",
   "execution_count": 28,
   "id": "40fc518f",
   "metadata": {
    "scrolled": true
   },
   "outputs": [
    {
     "data": {
      "text/plain": [
       "70.17"
      ]
     },
     "execution_count": 28,
     "metadata": {},
     "output_type": "execute_result"
    }
   ],
   "source": [
    "#get overall average of duration to pay fine for baseline average\n",
    "np.round(violations_dates['DURATION OF DAYS TO PAY FINE'].mean(),decimals=2)"
   ]
  },
  {
   "cell_type": "code",
   "execution_count": 29,
   "id": "c735188e",
   "metadata": {
    "scrolled": false
   },
   "outputs": [
    {
     "data": {
      "text/plain": [
       "<AxesSubplot: title={'center': 'Average Days for Fine Payment by Year from 2015-2020'}, xlabel='Year', ylabel='# of Days'>"
      ]
     },
     "execution_count": 29,
     "metadata": {},
     "output_type": "execute_result"
    },
    {
     "data": {
      "image/png": "[encoded data removed]",
      "text/plain": [
       "<Figure size 1000x800 with 2 Axes>"
      ]
     },
     "metadata": {},
     "output_type": "display_data"
    }
   ],
   "source": [
    "fig, axes = plt.subplots(nrows=2, ncols=1)    \n",
    "plt.subplots_adjust(wspace=.2, hspace=.5)\n",
    "violations_dates.groupby('ACCOUNT TYPE')['DURATION OF DAYS TO PAY FINE'].mean().plot.bar(ax=axes[0],figsize=(10,8),rot=0,color='navy',title ='Average Days for Fine Payment by Account Type 2015-2020',xlabel='Account Type',ylabel='# of Days')\n",
    "violations_dates.groupby('YEAR OF VIOLATION ISSUED')['DURATION OF DAYS TO PAY FINE'].mean().plot.bar(ax=axes[1],figsize=(10,8),rot=0,color='navy',title ='Average Days for Fine Payment by Year from 2015-2020',xlabel='Year',ylabel='# of Days')\n"
   ]
  },
  {
   "cell_type": "markdown",
   "id": "95ad9387",
   "metadata": {},
   "source": [
    "#### Registered users take the most amount of days by 50% more than the other highest amount.\n",
    "#### For years, so far 2022 has had a low average of day payments- Could this be due to any new policy or technology advancement?"
   ]
  },
  {
   "cell_type": "markdown",
   "id": "71ea9a4d",
   "metadata": {},
   "source": [
    "### Learnings from this Fine analysis are the following \n",
    "#### 1. Average fine amount has went through spikes, but has held stable in the 5 year period between 2015-2022. \n",
    "####  2. Account type classifications or variations are more homogenous in recent years, but Unlicensed accounts always had the most violations in the entire time period per year despite more variation\n",
    "#### 3. Duration for fine payment is down significantly YOY, as 2021 was a 5-year high. This could be tied to a potential policy change or technology advancement to make payments easier to process but this theory needs concrete backing\n",
    "\n",
    "#### Next Steps: Further exploring the dataset to include violation disposition data to see if the performance for violations or fines is tied to certain determinations or early settlements   "
   ]
  },
  {
   "cell_type": "code",
   "execution_count": null,
   "id": "24aa9fc6",
   "metadata": {},
   "outputs": [],
   "source": []
  }
 ],
 "metadata": {
  "kernelspec": {
   "display_name": "Python 3 (ipykernel)",
   "language": "python",
   "name": "python3"
  },
  "language_info": {
   "codemirror_mode": {
    "name": "ipython",
    "version": 3
   },
   "file_extension": ".py",
   "mimetype": "text/x-python",
   "name": "python",
   "nbconvert_exporter": "python",
   "pygments_lexer": "ipython3",
   "version": "3.9.13"
  }
 },
 "nbformat": 4,
 "nbformat_minor": 5
}
